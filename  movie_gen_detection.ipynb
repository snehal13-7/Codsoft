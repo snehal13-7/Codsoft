{
 "cells": [
  {
   "cell_type": "markdown",
   "id": "fcd9112c",
   "metadata": {},
   "source": [
    "# Name - Snehal Namdeo Waghole"
   ]
  },
  {
   "cell_type": "markdown",
   "id": "4cef0ffb",
   "metadata": {},
   "source": [
    "# Movie Genre Classification"
   ]
  },
  {
   "cell_type": "markdown",
   "id": "c56a79a9",
   "metadata": {},
   "source": [
    "### **Comparing accuracies of Naive Bayes and Logistic Regression**"
   ]
  },
  {
   "cell_type": "code",
   "execution_count": 1,
   "id": "2e14c964",
   "metadata": {
    "execution": {
     "iopub.execute_input": "2024-02-27T02:55:14.434919Z",
     "iopub.status.busy": "2024-02-27T02:55:14.433349Z",
     "iopub.status.idle": "2024-02-27T02:55:14.443201Z",
     "shell.execute_reply": "2024-02-27T02:55:14.44163Z",
     "shell.execute_reply.started": "2024-02-27T02:55:14.434868Z"
    }
   },
   "outputs": [
    {
     "name": "stderr",
     "output_type": "stream",
     "text": [
      "C:\\Users\\nehaw\\anaconda3\\lib\\site-packages\\scipy\\__init__.py:146: UserWarning: A NumPy version >=1.16.5 and <1.23.0 is required for this version of SciPy (detected version 1.26.4\n",
      "  warnings.warn(f\"A NumPy version >={np_minversion} and <{np_maxversion}\"\n"
     ]
    }
   ],
   "source": [
    "#Importing Libraries\n",
    "\n",
    "import numpy as np\n",
    "import pandas as pd\n",
    "import matplotlib.pyplot as plt\n",
    "import seaborn as sns\n",
    "import re\n",
    "import nltk\n",
    "import string\n",
    "\n",
    "from nltk.corpus import stopwords\n",
    "from nltk.stem import LancasterStemmer\n",
    "from sklearn.feature_extraction.text import TfidfVectorizer\n",
    "\n",
    "from sklearn.preprocessing import OneHotEncoder\n",
    "from sklearn.model_selection import train_test_split\n",
    "from sklearn.svm import SVC\n",
    "from sklearn.naive_bayes import MultinomialNB\n",
    "from sklearn.linear_model import LogisticRegression\n",
    "from sklearn.metrics import accuracy_score, classification_report"
   ]
  },
  {
   "cell_type": "code",
   "execution_count": null,
   "id": "e35e1125",
   "metadata": {},
   "outputs": [],
   "source": [
    "# Extra work.to check"
   ]
  },
  {
   "cell_type": "code",
   "execution_count": 2,
   "id": "207e38b3",
   "metadata": {},
   "outputs": [
    {
     "name": "stdout",
     "output_type": "stream",
     "text": [
      "The notebook JSON is valid.\n"
     ]
    }
   ],
   "source": [
    "# import json\n",
    "\n",
    "# # Load the notebook file\n",
    "# with open('movie_gen.ipynb', 'r') as f:\n",
    "#     notebook_data = json.load(f)\n",
    "\n",
    "# # Check if the loaded data is a valid JSON object\n",
    "# try:\n",
    "#     json.dumps(notebook_data)\n",
    "#     print(\"The notebook JSON is valid.\")\n",
    "# except ValueError as e:\n",
    "#     print(\"The notebook JSON is not valid:\", e)\n"
   ]
  },
  {
   "cell_type": "code",
   "execution_count": 3,
   "id": "d047e8dc",
   "metadata": {},
   "outputs": [
    {
     "name": "stderr",
     "output_type": "stream",
     "text": [
      "[nltk_data] Downloading package stopwords to\n",
      "[nltk_data]     C:\\Users\\nehaw\\AppData\\Roaming\\nltk_data...\n",
      "[nltk_data]   Package stopwords is already up-to-date!\n"
     ]
    },
    {
     "data": {
      "text/plain": [
       "True"
      ]
     },
     "execution_count": 3,
     "metadata": {},
     "output_type": "execute_result"
    }
   ],
   "source": [
    "import nltk\n",
    "nltk.download('stopwords')"
   ]
  },
  {
   "cell_type": "code",
   "execution_count": null,
   "id": "ed0d607d",
   "metadata": {
    "scrolled": true
   },
   "outputs": [],
   "source": [
    "# !pip install kaggle"
   ]
  },
  {
   "cell_type": "code",
   "execution_count": null,
   "id": "5d32707c",
   "metadata": {},
   "outputs": [],
   "source": [
    "# od.download(\"https://www.kaggle.com/code/hemalone/movie-genre-classification\")"
   ]
  },
  {
   "cell_type": "code",
   "execution_count": 4,
   "id": "003b016e",
   "metadata": {},
   "outputs": [
    {
     "name": "stdout",
     "output_type": "stream",
     "text": [
      "C:\\Users\\nehaw\\Desktop\\class material\\codsoft projects\\movie\\Genre Classification Dataset\\description.txt\n",
      "C:\\Users\\nehaw\\Desktop\\class material\\codsoft projects\\movie\\Genre Classification Dataset\\test_data.txt\n",
      "C:\\Users\\nehaw\\Desktop\\class material\\codsoft projects\\movie\\Genre Classification Dataset\\test_data_solution.txt\n",
      "C:\\Users\\nehaw\\Desktop\\class material\\codsoft projects\\movie\\Genre Classification Dataset\\train_data.txt\n"
     ]
    }
   ],
   "source": [
    "import os\n",
    "\n",
    "# Define the directory path\n",
    "directory_path = r\"C:\\Users\\nehaw\\Desktop\\class material\\codsoft projects\\movie\"\n",
    "\n",
    "# Traverse the directory tree and print file paths\n",
    "for dirname, _, filenames in os.walk(directory_path):\n",
    "    for filename in filenames:\n",
    "        print(os.path.join(dirname, filename))\n"
   ]
  },
  {
   "cell_type": "code",
   "execution_count": 5,
   "id": "bf827134",
   "metadata": {},
   "outputs": [],
   "source": [
    "description=pd.read_csv(r'C:\\Users\\nehaw\\Desktop\\class material\\codsoft projects\\movie\\Genre Classification Dataset\\description.txt')"
   ]
  },
  {
   "cell_type": "code",
   "execution_count": 6,
   "id": "fb3eb8a3",
   "metadata": {},
   "outputs": [
    {
     "data": {
      "text/html": [
       "<div>\n",
       "<style scoped>\n",
       "    .dataframe tbody tr th:only-of-type {\n",
       "        vertical-align: middle;\n",
       "    }\n",
       "\n",
       "    .dataframe tbody tr th {\n",
       "        vertical-align: top;\n",
       "    }\n",
       "\n",
       "    .dataframe thead th {\n",
       "        text-align: right;\n",
       "    }\n",
       "</style>\n",
       "<table border=\"1\" class=\"dataframe\">\n",
       "  <thead>\n",
       "    <tr style=\"text-align: right;\">\n",
       "      <th></th>\n",
       "      <th>Train data:</th>\n",
       "    </tr>\n",
       "  </thead>\n",
       "  <tbody>\n",
       "    <tr>\n",
       "      <th>0</th>\n",
       "      <td>ID ::: TITLE ::: GENRE ::: DESCRIPTION</td>\n",
       "    </tr>\n",
       "    <tr>\n",
       "      <th>1</th>\n",
       "      <td>ID ::: TITLE ::: GENRE ::: DESCRIPTION</td>\n",
       "    </tr>\n",
       "    <tr>\n",
       "      <th>2</th>\n",
       "      <td>ID ::: TITLE ::: GENRE ::: DESCRIPTION</td>\n",
       "    </tr>\n",
       "    <tr>\n",
       "      <th>3</th>\n",
       "      <td>ID ::: TITLE ::: GENRE ::: DESCRIPTION</td>\n",
       "    </tr>\n",
       "    <tr>\n",
       "      <th>4</th>\n",
       "      <td>Test data:</td>\n",
       "    </tr>\n",
       "    <tr>\n",
       "      <th>5</th>\n",
       "      <td>ID ::: TITLE ::: DESCRIPTION</td>\n",
       "    </tr>\n",
       "    <tr>\n",
       "      <th>6</th>\n",
       "      <td>ID ::: TITLE ::: DESCRIPTION</td>\n",
       "    </tr>\n",
       "    <tr>\n",
       "      <th>7</th>\n",
       "      <td>ID ::: TITLE ::: DESCRIPTION</td>\n",
       "    </tr>\n",
       "    <tr>\n",
       "      <th>8</th>\n",
       "      <td>ID ::: TITLE ::: DESCRIPTION</td>\n",
       "    </tr>\n",
       "    <tr>\n",
       "      <th>9</th>\n",
       "      <td>Source:</td>\n",
       "    </tr>\n",
       "    <tr>\n",
       "      <th>10</th>\n",
       "      <td>ftp://ftp.fu-berlin.de/pub/misc/movies/database/</td>\n",
       "    </tr>\n",
       "  </tbody>\n",
       "</table>\n",
       "</div>"
      ],
      "text/plain": [
       "                                         Train data:\n",
       "0             ID ::: TITLE ::: GENRE ::: DESCRIPTION\n",
       "1             ID ::: TITLE ::: GENRE ::: DESCRIPTION\n",
       "2             ID ::: TITLE ::: GENRE ::: DESCRIPTION\n",
       "3             ID ::: TITLE ::: GENRE ::: DESCRIPTION\n",
       "4                                         Test data:\n",
       "5                       ID ::: TITLE ::: DESCRIPTION\n",
       "6                       ID ::: TITLE ::: DESCRIPTION\n",
       "7                       ID ::: TITLE ::: DESCRIPTION\n",
       "8                       ID ::: TITLE ::: DESCRIPTION\n",
       "9                                            Source:\n",
       "10  ftp://ftp.fu-berlin.de/pub/misc/movies/database/"
      ]
     },
     "execution_count": 6,
     "metadata": {},
     "output_type": "execute_result"
    }
   ],
   "source": [
    "description"
   ]
  },
  {
   "cell_type": "markdown",
   "id": "3145ee4e",
   "metadata": {},
   "source": [
    "### **Load Training Data**"
   ]
  },
  {
   "cell_type": "code",
   "execution_count": 7,
   "id": "82b38b74",
   "metadata": {},
   "outputs": [
    {
     "data": {
      "text/html": [
       "<div>\n",
       "<style scoped>\n",
       "    .dataframe tbody tr th:only-of-type {\n",
       "        vertical-align: middle;\n",
       "    }\n",
       "\n",
       "    .dataframe tbody tr th {\n",
       "        vertical-align: top;\n",
       "    }\n",
       "\n",
       "    .dataframe thead th {\n",
       "        text-align: right;\n",
       "    }\n",
       "</style>\n",
       "<table border=\"1\" class=\"dataframe\">\n",
       "  <thead>\n",
       "    <tr style=\"text-align: right;\">\n",
       "      <th></th>\n",
       "      <th>Title</th>\n",
       "      <th>Genre</th>\n",
       "      <th>Description</th>\n",
       "    </tr>\n",
       "  </thead>\n",
       "  <tbody>\n",
       "    <tr>\n",
       "      <th>1</th>\n",
       "      <td>Oscar et la dame rose (2009)</td>\n",
       "      <td>drama</td>\n",
       "      <td>Listening in to a conversation between his do...</td>\n",
       "    </tr>\n",
       "    <tr>\n",
       "      <th>2</th>\n",
       "      <td>Cupid (1997)</td>\n",
       "      <td>thriller</td>\n",
       "      <td>A brother and sister with a past incestuous r...</td>\n",
       "    </tr>\n",
       "    <tr>\n",
       "      <th>3</th>\n",
       "      <td>Young, Wild and Wonderful (1980)</td>\n",
       "      <td>adult</td>\n",
       "      <td>As the bus empties the students for their fie...</td>\n",
       "    </tr>\n",
       "  </tbody>\n",
       "</table>\n",
       "</div>"
      ],
      "text/plain": [
       "                                Title       Genre  \\\n",
       "1       Oscar et la dame rose (2009)       drama    \n",
       "2                       Cupid (1997)    thriller    \n",
       "3   Young, Wild and Wonderful (1980)       adult    \n",
       "\n",
       "                                         Description  \n",
       "1   Listening in to a conversation between his do...  \n",
       "2   A brother and sister with a past incestuous r...  \n",
       "3   As the bus empties the students for their fie...  "
      ]
     },
     "execution_count": 7,
     "metadata": {},
     "output_type": "execute_result"
    }
   ],
   "source": [
    "# Load the training data \n",
    "train_path =r\"C:\\Users\\nehaw\\Desktop\\class material\\codsoft projects\\movie\\Genre Classification Dataset\\train_data.txt\"\n",
    "train_data = pd.read_csv(train_path, sep=':::', names=['Title', 'Genre', 'Description'], engine='python')\n",
    "train_data.head(3)"
   ]
  },
  {
   "cell_type": "markdown",
   "id": "9fa1e3d2",
   "metadata": {},
   "source": [
    "### **Load Test Data**"
   ]
  },
  {
   "cell_type": "code",
   "execution_count": 8,
   "id": "86741b28",
   "metadata": {
    "execution": {
     "iopub.execute_input": "2024-02-27T03:26:35.600198Z",
     "iopub.status.busy": "2024-02-27T03:26:35.599498Z",
     "iopub.status.idle": "2024-02-27T03:26:36.020964Z",
     "shell.execute_reply": "2024-02-27T03:26:36.019728Z",
     "shell.execute_reply.started": "2024-02-27T03:26:35.600164Z"
    }
   },
   "outputs": [
    {
     "data": {
      "text/html": [
       "<div>\n",
       "<style scoped>\n",
       "    .dataframe tbody tr th:only-of-type {\n",
       "        vertical-align: middle;\n",
       "    }\n",
       "\n",
       "    .dataframe tbody tr th {\n",
       "        vertical-align: top;\n",
       "    }\n",
       "\n",
       "    .dataframe thead th {\n",
       "        text-align: right;\n",
       "    }\n",
       "</style>\n",
       "<table border=\"1\" class=\"dataframe\">\n",
       "  <thead>\n",
       "    <tr style=\"text-align: right;\">\n",
       "      <th></th>\n",
       "      <th>Id</th>\n",
       "      <th>Title</th>\n",
       "      <th>Description</th>\n",
       "    </tr>\n",
       "  </thead>\n",
       "  <tbody>\n",
       "    <tr>\n",
       "      <th>0</th>\n",
       "      <td>1</td>\n",
       "      <td>Edgar's Lunch (1998)</td>\n",
       "      <td>L.R. Brane loves his life - his car, his apar...</td>\n",
       "    </tr>\n",
       "    <tr>\n",
       "      <th>1</th>\n",
       "      <td>2</td>\n",
       "      <td>La guerra de papá (1977)</td>\n",
       "      <td>Spain, March 1964: Quico is a very naughty ch...</td>\n",
       "    </tr>\n",
       "    <tr>\n",
       "      <th>2</th>\n",
       "      <td>3</td>\n",
       "      <td>Off the Beaten Track (2010)</td>\n",
       "      <td>One year in the life of Albin and his family ...</td>\n",
       "    </tr>\n",
       "  </tbody>\n",
       "</table>\n",
       "</div>"
      ],
      "text/plain": [
       "   Id                          Title  \\\n",
       "0   1          Edgar's Lunch (1998)    \n",
       "1   2      La guerra de papá (1977)    \n",
       "2   3   Off the Beaten Track (2010)    \n",
       "\n",
       "                                         Description  \n",
       "0   L.R. Brane loves his life - his car, his apar...  \n",
       "1   Spain, March 1964: Quico is a very naughty ch...  \n",
       "2   One year in the life of Albin and his family ...  "
      ]
     },
     "execution_count": 8,
     "metadata": {},
     "output_type": "execute_result"
    }
   ],
   "source": [
    "# Load the test data\n",
    "\n",
    "test_path =r\"C:\\Users\\nehaw\\Desktop\\class material\\codsoft projects\\movie\\Genre Classification Dataset\\test_data.txt\"\n",
    "test_data = pd.read_csv(test_path, sep=':::', names=['Id', 'Title', 'Description'], engine='python')\n",
    "test_data.head(3)"
   ]
  },
  {
   "cell_type": "markdown",
   "id": "9442e318",
   "metadata": {},
   "source": [
    "### **Load Test Solution**"
   ]
  },
  {
   "cell_type": "code",
   "execution_count": 9,
   "id": "32a45737",
   "metadata": {
    "execution": {
     "iopub.execute_input": "2024-02-27T03:26:38.227553Z",
     "iopub.status.busy": "2024-02-27T03:26:38.226862Z",
     "iopub.status.idle": "2024-02-27T03:26:38.719254Z",
     "shell.execute_reply": "2024-02-27T03:26:38.718097Z",
     "shell.execute_reply.started": "2024-02-27T03:26:38.227495Z"
    }
   },
   "outputs": [
    {
     "data": {
      "text/html": [
       "<div>\n",
       "<style scoped>\n",
       "    .dataframe tbody tr th:only-of-type {\n",
       "        vertical-align: middle;\n",
       "    }\n",
       "\n",
       "    .dataframe tbody tr th {\n",
       "        vertical-align: top;\n",
       "    }\n",
       "\n",
       "    .dataframe thead th {\n",
       "        text-align: right;\n",
       "    }\n",
       "</style>\n",
       "<table border=\"1\" class=\"dataframe\">\n",
       "  <thead>\n",
       "    <tr style=\"text-align: right;\">\n",
       "      <th></th>\n",
       "      <th>Actual Genre</th>\n",
       "    </tr>\n",
       "  </thead>\n",
       "  <tbody>\n",
       "    <tr>\n",
       "      <th>1</th>\n",
       "      <td>thriller</td>\n",
       "    </tr>\n",
       "    <tr>\n",
       "      <th>2</th>\n",
       "      <td>comedy</td>\n",
       "    </tr>\n",
       "    <tr>\n",
       "      <th>3</th>\n",
       "      <td>documentary</td>\n",
       "    </tr>\n",
       "  </tbody>\n",
       "</table>\n",
       "</div>"
      ],
      "text/plain": [
       "    Actual Genre\n",
       "1      thriller \n",
       "2        comedy \n",
       "3   documentary "
      ]
     },
     "execution_count": 9,
     "metadata": {},
     "output_type": "execute_result"
    }
   ],
   "source": [
    "test_soln_path=r\"C:\\Users\\nehaw\\Desktop\\class material\\codsoft projects\\movie\\Genre Classification Dataset\\test_data_solution.txt\"\n",
    "test_soln_data = pd.read_csv(test_soln_path, sep=':::', names=['Id', 'Title', 'Description'], engine='python')\n",
    "test_soln_data.drop(test_soln_data.columns[[0, 2]], axis=1, inplace=True)\n",
    "test_soln_data.rename(columns = {'Title':'Actual Genre'}, inplace = True) \n",
    "test_soln_data.head(3)"
   ]
  },
  {
   "cell_type": "markdown",
   "id": "173ea335",
   "metadata": {},
   "source": [
    "### **Visualise Data**"
   ]
  },
  {
   "cell_type": "code",
   "execution_count": 10,
   "id": "c84f7c76",
   "metadata": {
    "execution": {
     "iopub.execute_input": "2024-02-26T21:53:33.68831Z",
     "iopub.status.busy": "2024-02-26T21:53:33.687952Z",
     "iopub.status.idle": "2024-02-26T21:53:33.708312Z",
     "shell.execute_reply": "2024-02-26T21:53:33.706383Z",
     "shell.execute_reply.started": "2024-02-26T21:53:33.688283Z"
    }
   },
   "outputs": [
    {
     "data": {
      "text/plain": [
       " drama           13613\n",
       " documentary     13096\n",
       " comedy           7447\n",
       " short            5073\n",
       " horror           2204\n",
       " thriller         1591\n",
       " action           1315\n",
       " western          1032\n",
       " reality-tv        884\n",
       " family            784\n",
       " adventure         775\n",
       " music             731\n",
       " romance           672\n",
       " sci-fi            647\n",
       " adult             590\n",
       " crime             505\n",
       " animation         498\n",
       " sport             432\n",
       " talk-show         391\n",
       " fantasy           323\n",
       " mystery           319\n",
       " musical           277\n",
       " biography         265\n",
       " history           243\n",
       " game-show         194\n",
       " news              181\n",
       " war               132\n",
       "Name: Genre, dtype: int64"
      ]
     },
     "execution_count": 10,
     "metadata": {},
     "output_type": "execute_result"
    }
   ],
   "source": [
    "#Count each genre value\n",
    "train_data.Genre.value_counts()"
   ]
  },
  {
   "cell_type": "code",
   "execution_count": 11,
   "id": "b8b1c6d2",
   "metadata": {
    "execution": {
     "iopub.execute_input": "2024-02-26T21:44:43.589983Z",
     "iopub.status.busy": "2024-02-26T21:44:43.589608Z",
     "iopub.status.idle": "2024-02-26T21:44:44.048249Z",
     "shell.execute_reply": "2024-02-26T21:44:44.046965Z",
     "shell.execute_reply.started": "2024-02-26T21:44:43.589955Z"
    }
   },
   "outputs": [
    {
     "data": {
      "text/plain": [
       "Text(0, 0.5, 'Distribution of Genres')"
      ]
     },
     "execution_count": 11,
     "metadata": {},
     "output_type": "execute_result"
    },
    {
     "data": {
      "image/png": "[encoded data removed]",
      "text/plain": [
       "<Figure size 1008x504 with 1 Axes>"
      ]
     },
     "metadata": {
      "needs_background": "light"
     },
     "output_type": "display_data"
    }
   ],
   "source": [
    "# Plot the distribution of genres in the training data\n",
    "plt.figure(figsize=(14, 7))\n",
    "sns.countplot(data=train_data, y='Genre', order=train_data['Genre'].value_counts().index, palette='viridis')\n",
    "plt.xlabel('Count', fontsize=14, fontweight='bold')\n",
    "plt.ylabel('Distribution of Genres', fontsize=14, fontweight='bold')"
   ]
  },
  {
   "cell_type": "code",
   "execution_count": 12,
   "id": "2e273e39",
   "metadata": {
    "execution": {
     "iopub.execute_input": "2024-02-26T21:53:35.043166Z",
     "iopub.status.busy": "2024-02-26T21:53:35.042809Z",
     "iopub.status.idle": "2024-02-26T21:53:35.478706Z",
     "shell.execute_reply": "2024-02-26T21:53:35.477058Z",
     "shell.execute_reply.started": "2024-02-26T21:53:35.043138Z"
    }
   },
   "outputs": [
    {
     "data": {
      "image/png": "[encoded data removed]",
      "text/plain": [
       "<Figure size 1008x504 with 1 Axes>"
      ]
     },
     "metadata": {
      "needs_background": "light"
     },
     "output_type": "display_data"
    }
   ],
   "source": [
    "# Plot the distribution of genres using a bar plot\n",
    "plt.figure(figsize=(14, 7))\n",
    "counts = train_data['Genre'].value_counts()\n",
    "sns.barplot(x=counts.index, y=counts, palette='mako')\n",
    "plt.xlabel('Distribution of Genres', fontsize=14, fontweight='bold')\n",
    "plt.ylabel('Count', fontsize=14, fontweight='bold')\n",
    "plt.title('BAR CHART', fontsize=16, fontweight='bold')\n",
    "plt.xticks(rotation=90, fontsize=14, fontweight='bold')\n",
    "plt.show()"
   ]
  },
  {
   "cell_type": "markdown",
   "id": "863dae77",
   "metadata": {},
   "source": [
    "### **Data Preprocessing**"
   ]
  },
  {
   "cell_type": "code",
   "execution_count": 13,
   "id": "f7af7b19",
   "metadata": {
    "execution": {
     "iopub.execute_input": "2024-02-26T21:53:45.713799Z",
     "iopub.status.busy": "2024-02-26T21:53:45.713415Z",
     "iopub.status.idle": "2024-02-26T21:53:45.742471Z",
     "shell.execute_reply": "2024-02-26T21:53:45.741441Z",
     "shell.execute_reply.started": "2024-02-26T21:53:45.713768Z"
    }
   },
   "outputs": [
    {
     "name": "stdout",
     "output_type": "stream",
     "text": [
      "<class 'pandas.core.frame.DataFrame'>\n",
      "Int64Index: 54214 entries, 1 to 54214\n",
      "Data columns (total 3 columns):\n",
      " #   Column       Non-Null Count  Dtype \n",
      "---  ------       --------------  ----- \n",
      " 0   Title        54214 non-null  object\n",
      " 1   Genre        54214 non-null  object\n",
      " 2   Description  54214 non-null  object\n",
      "dtypes: object(3)\n",
      "memory usage: 1.7+ MB\n"
     ]
    }
   ],
   "source": [
    "train_data.info()"
   ]
  },
  {
   "cell_type": "code",
   "execution_count": 14,
   "id": "b80ede8b",
   "metadata": {
    "execution": {
     "iopub.execute_input": "2024-02-26T21:53:48.08383Z",
     "iopub.status.busy": "2024-02-26T21:53:48.083217Z",
     "iopub.status.idle": "2024-02-26T21:53:48.107318Z",
     "shell.execute_reply": "2024-02-26T21:53:48.105572Z",
     "shell.execute_reply.started": "2024-02-26T21:53:48.083798Z"
    }
   },
   "outputs": [
    {
     "data": {
      "text/plain": [
       "Title          0\n",
       "Genre          0\n",
       "Description    0\n",
       "dtype: int64"
      ]
     },
     "execution_count": 14,
     "metadata": {},
     "output_type": "execute_result"
    }
   ],
   "source": [
    "#Finda any null value\n",
    "train_data.isnull().sum()"
   ]
  },
  {
   "cell_type": "code",
   "execution_count": 15,
   "id": "35bba8bf",
   "metadata": {},
   "outputs": [
    {
     "name": "stderr",
     "output_type": "stream",
     "text": [
      "[nltk_data] Downloading package punkt to\n",
      "[nltk_data]     C:\\Users\\nehaw\\AppData\\Roaming\\nltk_data...\n",
      "[nltk_data]   Package punkt is already up-to-date!\n"
     ]
    },
    {
     "data": {
      "text/plain": [
       "True"
      ]
     },
     "execution_count": 15,
     "metadata": {},
     "output_type": "execute_result"
    }
   ],
   "source": [
    "import nltk\n",
    "nltk.download('punkt')\n"
   ]
  },
  {
   "cell_type": "code",
   "execution_count": 22,
   "id": "1e33fa02",
   "metadata": {},
   "outputs": [],
   "source": [
    "# Initialize the stemmer and stop words\n",
    "stemmer = LancasterStemmer()\n",
    "stop_words = set(stopwords.words('english'))\n",
    "\n",
    "# Define the clean_text function\n",
    "def clean_text(text):\n",
    "    text = text.lower()  # Lowercase all characters\n",
    "    text = re.sub(r'@\\S+', '', text)  # Remove Twitter handles\n",
    "    text = re.sub(r'http\\S+', '', text)  # Remove URLs\n",
    "    text = re.sub(r'pic.\\S+', '', text)\n",
    "    text = re.sub(r\"[^a-zA-Z+']\", ' ', text)  # Keep only characters\n",
    "    text = re.sub(r'\\s+[a-zA-Z]\\s+', ' ', text + ' ')  # Keep words with length > 1 only\n",
    "    text = \"\".join([i for i in text if i not in string.punctuation])\n",
    "    words = nltk.word_tokenize(text)\n",
    "    stopwords = nltk.corpus.stopwords.words('english')  # Remove stopwords\n",
    "    text = \" \".join([i for i in words if i not in stopwords and len(i) > 2])\n",
    "    text = re.sub(\"\\s[\\s]+\", \" \", text).strip()  # Remove repeated/leading/trailing spaces\n",
    "    return text\n",
    "\n",
    "# Apply the clean_text function to the 'Description' column in the training and test data\n",
    "train_data['Text_cleaning'] = train_data['Description'].apply(clean_text)\n",
    "test_data['Text_cleaning'] = test_data['Description'].apply(clean_text)"
   ]
  },
  {
   "cell_type": "code",
   "execution_count": 23,
   "id": "717d9b0a",
   "metadata": {
    "execution": {
     "iopub.execute_input": "2024-02-27T03:00:06.434215Z",
     "iopub.status.busy": "2024-02-27T03:00:06.433752Z",
     "iopub.status.idle": "2024-02-27T03:00:06.674432Z",
     "shell.execute_reply": "2024-02-27T03:00:06.672869Z",
     "shell.execute_reply.started": "2024-02-27T03:00:06.434183Z"
    }
   },
   "outputs": [
    {
     "name": "stdout",
     "output_type": "stream",
     "text": [
      "shape before drop nulls (54214, 4)\n",
      "shape after drop nulls (54214, 4)\n"
     ]
    }
   ],
   "source": [
    "# Droping the redundant data\n",
    "print(\"shape before drop nulls\",train_data.shape)\n",
    "train_data = train_data.drop_duplicates()\n",
    "print(\"shape after drop nulls\",train_data.shape)"
   ]
  },
  {
   "cell_type": "code",
   "execution_count": 24,
   "id": "0c82b996",
   "metadata": {
    "execution": {
     "iopub.execute_input": "2024-02-26T21:55:31.848237Z",
     "iopub.status.busy": "2024-02-26T21:55:31.847861Z",
     "iopub.status.idle": "2024-02-26T21:55:32.412532Z",
     "shell.execute_reply": "2024-02-26T21:55:32.411194Z",
     "shell.execute_reply.started": "2024-02-26T21:55:31.848197Z"
    }
   },
   "outputs": [
    {
     "data": {
      "image/png": "[encoded data removed]",
      "text/plain": [
       "<Figure size 576x504 with 1 Axes>"
      ]
     },
     "metadata": {
      "needs_background": "light"
     },
     "output_type": "display_data"
    }
   ],
   "source": [
    "import warnings\n",
    "warnings.filterwarnings(\"ignore\", \"use_inf_as_na\")\n",
    "\n",
    "# Calculate the length of cleaned text\n",
    "train_data['length_Text_cleaning'] = train_data['Text_cleaning'].apply(len)\n",
    "# Visualize the distribution of text lengths\n",
    "plt.figure(figsize=(8, 7))\n",
    "sns.histplot(data=train_data, x='length_Text_cleaning', bins=20, kde=True, color='blue')\n",
    "plt.xlabel('Length', fontsize=14, fontweight='bold')\n",
    "plt.ylabel('Frequency', fontsize=14, fontweight='bold')\n",
    "plt.title('Distribution of Lengths', fontsize=16, fontweight='bold')\n",
    "plt.show()"
   ]
  },
  {
   "cell_type": "code",
   "execution_count": 25,
   "id": "792dfc84",
   "metadata": {
    "execution": {
     "iopub.execute_input": "2024-02-26T21:55:34.330351Z",
     "iopub.status.busy": "2024-02-26T21:55:34.329962Z",
     "iopub.status.idle": "2024-02-26T21:55:35.011297Z",
     "shell.execute_reply": "2024-02-26T21:55:35.010027Z",
     "shell.execute_reply.started": "2024-02-26T21:55:34.330311Z"
    }
   },
   "outputs": [
    {
     "data": {
      "image/png": "[encoded data removed]",
      "text/plain": [
       "<Figure size 864x432 with 2 Axes>"
      ]
     },
     "metadata": {
      "needs_background": "light"
     },
     "output_type": "display_data"
    }
   ],
   "source": [
    "# Create histograms to visualize the distribution of text lengths before and after cleaning\n",
    "\n",
    "# Set up the figure with two subplots\n",
    "plt.figure(figsize=(12, 6))\n",
    "\n",
    "# Subplot 1: Original text length distribution\n",
    "plt.subplot(1, 2, 1)\n",
    "original_lengths = train_data['Description'].apply(len)\n",
    "plt.hist(original_lengths, bins=range(0, max(original_lengths) + 100, 100), color='blue', alpha=0.7)\n",
    "plt.title('Original Text Length')\n",
    "plt.xlabel('Text Length')\n",
    "plt.ylabel('Frequency')\n",
    "\n",
    "# Subplot 2: Cleaned text length distribution\n",
    "plt.subplot(1, 2, 2)\n",
    "cleaned_lengths = train_data['Text_cleaning'].apply(len)\n",
    "plt.hist(cleaned_lengths, bins=range(0, max(cleaned_lengths) + 100, 100), color='green', alpha=0.7)\n",
    "plt.title('Cleaned Text Length')\n",
    "plt.xlabel('Text Length')\n",
    "plt.ylabel('Frequency')\n",
    "\n",
    "# Adjust layout and display the plots\n",
    "plt.tight_layout()\n",
    "plt.show()"
   ]
  },
  {
   "cell_type": "markdown",
   "id": "af75e41b",
   "metadata": {},
   "source": [
    "### **Text Vectorization (TF-IDF)**"
   ]
  },
  {
   "cell_type": "code",
   "execution_count": 26,
   "id": "da90641f",
   "metadata": {
    "execution": {
     "iopub.execute_input": "2024-02-27T03:00:18.697563Z",
     "iopub.status.busy": "2024-02-27T03:00:18.697023Z",
     "iopub.status.idle": "2024-02-27T03:00:28.932202Z",
     "shell.execute_reply": "2024-02-27T03:00:28.930917Z",
     "shell.execute_reply.started": "2024-02-27T03:00:18.697504Z"
    }
   },
   "outputs": [],
   "source": [
    "# Initialize the TF-IDF vectorizer\n",
    "tfidf_vectorizer = TfidfVectorizer()\n",
    "\n",
    "# Fit and transform the training data\n",
    "X_train = tfidf_vectorizer.fit_transform(train_data['Text_cleaning'])\n",
    "\n",
    "# Transform the test data\n",
    "X_test = tfidf_vectorizer.transform(test_data['Text_cleaning'])"
   ]
  },
  {
   "cell_type": "markdown",
   "id": "79c388c6",
   "metadata": {},
   "source": [
    "### **Split Data and Train Model**"
   ]
  },
  {
   "cell_type": "code",
   "execution_count": 27,
   "id": "72faa15a",
   "metadata": {
    "execution": {
     "iopub.execute_input": "2024-02-27T03:00:32.382932Z",
     "iopub.status.busy": "2024-02-27T03:00:32.381184Z",
     "iopub.status.idle": "2024-02-27T03:00:32.413852Z",
     "shell.execute_reply": "2024-02-27T03:00:32.41258Z",
     "shell.execute_reply.started": "2024-02-27T03:00:32.382868Z"
    }
   },
   "outputs": [],
   "source": [
    "# Split the data into training and validation sets\n",
    "X = X_train\n",
    "y = train_data['Genre']\n",
    "X_train, X_val, y_train, y_val = train_test_split(X, y, test_size=0.2, random_state=42)"
   ]
  },
  {
   "cell_type": "markdown",
   "id": "86c90753",
   "metadata": {},
   "source": [
    "### **Naive Bayes**"
   ]
  },
  {
   "cell_type": "code",
   "execution_count": 28,
   "id": "378b83cd",
   "metadata": {
    "execution": {
     "iopub.execute_input": "2024-02-27T03:07:47.072155Z",
     "iopub.status.busy": "2024-02-27T03:07:47.07166Z",
     "iopub.status.idle": "2024-02-27T03:07:48.042349Z",
     "shell.execute_reply": "2024-02-27T03:07:48.041033Z",
     "shell.execute_reply.started": "2024-02-27T03:07:47.072119Z"
    }
   },
   "outputs": [
    {
     "name": "stdout",
     "output_type": "stream",
     "text": [
      "Validation Accuracy: 0.44526422576777647\n",
      "               precision    recall  f1-score   support\n",
      "\n",
      "      action        0.00      0.00      0.00       263\n",
      "       adult        0.00      0.00      0.00       112\n",
      "   adventure        0.00      0.00      0.00       139\n",
      "   animation        0.00      0.00      0.00       104\n",
      "   biography        0.00      0.00      0.00        61\n",
      "      comedy        0.61      0.04      0.07      1443\n",
      "       crime        0.00      0.00      0.00       107\n",
      " documentary        0.54      0.90      0.67      2659\n",
      "       drama        0.38      0.88      0.53      2697\n",
      "      family        0.00      0.00      0.00       150\n",
      "     fantasy        0.00      0.00      0.00        74\n",
      "   game-show        0.00      0.00      0.00        40\n",
      "     history        0.00      0.00      0.00        45\n",
      "      horror        0.00      0.00      0.00       431\n",
      "       music        0.00      0.00      0.00       144\n",
      "     musical        0.00      0.00      0.00        50\n",
      "     mystery        0.00      0.00      0.00        56\n",
      "        news        0.00      0.00      0.00        34\n",
      "  reality-tv        0.00      0.00      0.00       192\n",
      "     romance        0.00      0.00      0.00       151\n",
      "      sci-fi        0.00      0.00      0.00       143\n",
      "       short        0.50      0.00      0.00      1045\n",
      "       sport        0.00      0.00      0.00        93\n",
      "   talk-show        0.00      0.00      0.00        81\n",
      "    thriller        0.00      0.00      0.00       309\n",
      "         war        0.00      0.00      0.00        20\n",
      "     western        0.00      0.00      0.00       200\n",
      "\n",
      "     accuracy                           0.45     10843\n",
      "    macro avg       0.08      0.07      0.05     10843\n",
      " weighted avg       0.36      0.45      0.31     10843\n",
      "\n"
     ]
    }
   ],
   "source": [
    "import warnings\n",
    "warnings.filterwarnings(\"ignore\")\n",
    "\n",
    "# Initialize and train a Multinomial Naive Bayes Classifier\n",
    "clf_NB = MultinomialNB()\n",
    "clf_NB.fit(X_train, y_train)\n",
    "\n",
    "# Make predictions on the validation set\n",
    "y_pred = clf_NB.predict(X_val)\n",
    "\n",
    "# Evaluate the performance of the model\n",
    "accuracy = accuracy_score(y_val, y_pred)\n",
    "print(\"Validation Accuracy:\", accuracy)\n",
    "print(classification_report(y_val, y_pred))"
   ]
  },
  {
   "cell_type": "code",
   "execution_count": 29,
   "id": "05e52b64",
   "metadata": {
    "execution": {
     "iopub.execute_input": "2024-02-27T03:01:06.961454Z",
     "iopub.status.busy": "2024-02-27T03:01:06.961035Z",
     "iopub.status.idle": "2024-02-27T03:01:06.987435Z",
     "shell.execute_reply": "2024-02-27T03:01:06.985592Z",
     "shell.execute_reply.started": "2024-02-27T03:01:06.961422Z"
    }
   },
   "outputs": [
    {
     "data": {
      "text/plain": [
       "0.44526422576777647"
      ]
     },
     "execution_count": 29,
     "metadata": {},
     "output_type": "execute_result"
    }
   ],
   "source": [
    "accuracy_NB = accuracy_score(y_val, y_pred)\n",
    "accuracy_NB"
   ]
  },
  {
   "cell_type": "markdown",
   "id": "58f6c9cf",
   "metadata": {},
   "source": [
    "### **Logistic Regression**"
   ]
  },
  {
   "cell_type": "code",
   "execution_count": 30,
   "id": "dead5137",
   "metadata": {
    "execution": {
     "iopub.execute_input": "2024-02-27T03:07:52.582081Z",
     "iopub.status.busy": "2024-02-27T03:07:52.581295Z",
     "iopub.status.idle": "2024-02-27T03:08:03.999695Z",
     "shell.execute_reply": "2024-02-27T03:08:03.998438Z",
     "shell.execute_reply.started": "2024-02-27T03:07:52.58204Z"
    }
   },
   "outputs": [
    {
     "name": "stdout",
     "output_type": "stream",
     "text": [
      "Validation Accuracy: 0.5795444065295582\n",
      "               precision    recall  f1-score   support\n",
      "\n",
      "      action        0.61      0.22      0.32       263\n",
      "       adult        0.86      0.17      0.28       112\n",
      "   adventure        0.45      0.10      0.16       139\n",
      "   animation        0.67      0.02      0.04       104\n",
      "   biography        0.00      0.00      0.00        61\n",
      "      comedy        0.52      0.59      0.55      1443\n",
      "       crime        1.00      0.01      0.02       107\n",
      " documentary        0.65      0.87      0.74      2659\n",
      "       drama        0.53      0.81      0.64      2697\n",
      "      family        0.50      0.05      0.10       150\n",
      "     fantasy        0.00      0.00      0.00        74\n",
      "   game-show        0.92      0.30      0.45        40\n",
      "     history        0.00      0.00      0.00        45\n",
      "      horror        0.67      0.55      0.60       431\n",
      "       music        0.71      0.38      0.49       144\n",
      "     musical        0.00      0.00      0.00        50\n",
      "     mystery        0.00      0.00      0.00        56\n",
      "        news        0.00      0.00      0.00        34\n",
      "  reality-tv        0.47      0.14      0.21       192\n",
      "     romance        0.00      0.00      0.00       151\n",
      "      sci-fi        0.57      0.15      0.23       143\n",
      "       short        0.51      0.29      0.37      1045\n",
      "       sport        0.88      0.15      0.26        93\n",
      "   talk-show        0.60      0.07      0.13        81\n",
      "    thriller        0.44      0.11      0.18       309\n",
      "         war        0.00      0.00      0.00        20\n",
      "     western        0.96      0.67      0.79       200\n",
      "\n",
      "     accuracy                           0.58     10843\n",
      "    macro avg       0.46      0.21      0.24     10843\n",
      " weighted avg       0.56      0.58      0.53     10843\n",
      "\n"
     ]
    }
   ],
   "source": [
    "# Initialize and train a Logistic Regression Classifier\n",
    "clf_logreg = LogisticRegression(multi_class='multinomial', solver='sag')\n",
    "clf_logreg.fit(X_train, y_train)\n",
    "\n",
    "# Make predictions on the validation set\n",
    "y_pred = clf_logreg.predict(X_val)\n",
    "\n",
    "# Evaluate the performance of the model\n",
    "accuracy = accuracy_score(y_val, y_pred)\n",
    "print(\"Validation Accuracy:\", accuracy)\n",
    "print(classification_report(y_val, y_pred))"
   ]
  },
  {
   "cell_type": "code",
   "execution_count": 31,
   "id": "83c17cf9",
   "metadata": {
    "execution": {
     "iopub.execute_input": "2024-02-27T03:01:30.054096Z",
     "iopub.status.busy": "2024-02-27T03:01:30.053682Z",
     "iopub.status.idle": "2024-02-27T03:01:30.089214Z",
     "shell.execute_reply": "2024-02-27T03:01:30.088128Z",
     "shell.execute_reply.started": "2024-02-27T03:01:30.054066Z"
    }
   },
   "outputs": [
    {
     "data": {
      "text/plain": [
       "0.5795444065295582"
      ]
     },
     "execution_count": 31,
     "metadata": {},
     "output_type": "execute_result"
    }
   ],
   "source": [
    "accuracy_logreg = accuracy_score(y_val, y_pred)\n",
    "accuracy_logreg"
   ]
  },
  {
   "cell_type": "markdown",
   "id": "d818e559",
   "metadata": {},
   "source": [
    "### **Make Predictions on the Test Data**"
   ]
  },
  {
   "cell_type": "markdown",
   "id": "cd526ed9",
   "metadata": {},
   "source": [
    "### **Naive Bayes**"
   ]
  },
  {
   "cell_type": "code",
   "execution_count": 32,
   "id": "a1fde45a",
   "metadata": {
    "execution": {
     "iopub.execute_input": "2024-02-27T03:26:46.333082Z",
     "iopub.status.busy": "2024-02-27T03:26:46.332697Z",
     "iopub.status.idle": "2024-02-27T03:26:46.467955Z",
     "shell.execute_reply": "2024-02-27T03:26:46.46664Z",
     "shell.execute_reply.started": "2024-02-27T03:26:46.333054Z"
    }
   },
   "outputs": [],
   "source": [
    "# Use the trained model to make predictions on the test data\n",
    "X_test_predictions = clf_NB.predict(X_test)\n",
    "test_data['Predicted_Genre_NB'] = X_test_predictions"
   ]
  },
  {
   "cell_type": "markdown",
   "id": "0ede8909",
   "metadata": {},
   "source": [
    "### **Logistic Regression**"
   ]
  },
  {
   "cell_type": "code",
   "execution_count": 33,
   "id": "280d6bf4",
   "metadata": {
    "execution": {
     "iopub.execute_input": "2024-02-27T03:26:48.13444Z",
     "iopub.status.busy": "2024-02-27T03:26:48.134027Z",
     "iopub.status.idle": "2024-02-27T03:26:48.26707Z",
     "shell.execute_reply": "2024-02-27T03:26:48.265377Z",
     "shell.execute_reply.started": "2024-02-27T03:26:48.134411Z"
    }
   },
   "outputs": [],
   "source": [
    "# Use the trained model to make predictions on the test data\n",
    "X_test_predictions = clf_logreg.predict(X_test)\n",
    "test_data['Predicted_Genre_LR'] = X_test_predictions"
   ]
  },
  {
   "cell_type": "markdown",
   "id": "c42072b3",
   "metadata": {},
   "source": [
    "### **Make Consolidated Dataframe**"
   ]
  },
  {
   "cell_type": "code",
   "execution_count": 34,
   "id": "c7db8e2b",
   "metadata": {
    "execution": {
     "iopub.execute_input": "2024-02-27T03:26:53.243884Z",
     "iopub.status.busy": "2024-02-27T03:26:53.243416Z",
     "iopub.status.idle": "2024-02-27T03:26:55.163761Z",
     "shell.execute_reply": "2024-02-27T03:26:55.162455Z",
     "shell.execute_reply.started": "2024-02-27T03:26:53.243852Z"
    }
   },
   "outputs": [],
   "source": [
    "# Save the test_data DataFrame with predicted genres to a CSV file\n",
    "test_data.to_csv('predicted_genres.csv', index=False)\n",
    "\n",
    "# Add actual genre column to predicted dataFrame\n",
    "extracted_col = test_soln_data[\"Actual Genre\"]\n",
    "test_data.insert(5, \"Actual Genre\", extracted_col)"
   ]
  },
  {
   "cell_type": "code",
   "execution_count": 35,
   "id": "32de99e8",
   "metadata": {
    "execution": {
     "iopub.execute_input": "2024-02-27T03:26:56.96033Z",
     "iopub.status.busy": "2024-02-27T03:26:56.959777Z",
     "iopub.status.idle": "2024-02-27T03:26:56.97573Z",
     "shell.execute_reply": "2024-02-27T03:26:56.974134Z",
     "shell.execute_reply.started": "2024-02-27T03:26:56.96026Z"
    }
   },
   "outputs": [
    {
     "data": {
      "text/html": [
       "<div>\n",
       "<style scoped>\n",
       "    .dataframe tbody tr th:only-of-type {\n",
       "        vertical-align: middle;\n",
       "    }\n",
       "\n",
       "    .dataframe tbody tr th {\n",
       "        vertical-align: top;\n",
       "    }\n",
       "\n",
       "    .dataframe thead th {\n",
       "        text-align: right;\n",
       "    }\n",
       "</style>\n",
       "<table border=\"1\" class=\"dataframe\">\n",
       "  <thead>\n",
       "    <tr style=\"text-align: right;\">\n",
       "      <th></th>\n",
       "      <th>Id</th>\n",
       "      <th>Title</th>\n",
       "      <th>Description</th>\n",
       "      <th>Text_cleaning</th>\n",
       "      <th>Predicted_Genre_NB</th>\n",
       "      <th>Actual Genre</th>\n",
       "      <th>Predicted_Genre_LR</th>\n",
       "    </tr>\n",
       "  </thead>\n",
       "  <tbody>\n",
       "    <tr>\n",
       "      <th>0</th>\n",
       "      <td>1</td>\n",
       "      <td>Edgar's Lunch (1998)</td>\n",
       "      <td>L.R. Brane loves his life - his car, his apar...</td>\n",
       "      <td>brane loves life car apartment job especially ...</td>\n",
       "      <td>drama</td>\n",
       "      <td>NaN</td>\n",
       "      <td>drama</td>\n",
       "    </tr>\n",
       "    <tr>\n",
       "      <th>1</th>\n",
       "      <td>2</td>\n",
       "      <td>La guerra de papá (1977)</td>\n",
       "      <td>Spain, March 1964: Quico is a very naughty ch...</td>\n",
       "      <td>spain march quico naughty child three belongin...</td>\n",
       "      <td>drama</td>\n",
       "      <td>thriller</td>\n",
       "      <td>drama</td>\n",
       "    </tr>\n",
       "    <tr>\n",
       "      <th>2</th>\n",
       "      <td>3</td>\n",
       "      <td>Off the Beaten Track (2010)</td>\n",
       "      <td>One year in the life of Albin and his family ...</td>\n",
       "      <td>one year life albin family shepherds north tra...</td>\n",
       "      <td>documentary</td>\n",
       "      <td>comedy</td>\n",
       "      <td>documentary</td>\n",
       "    </tr>\n",
       "    <tr>\n",
       "      <th>3</th>\n",
       "      <td>4</td>\n",
       "      <td>Meu Amigo Hindu (2015)</td>\n",
       "      <td>His father has died, he hasn't spoken with hi...</td>\n",
       "      <td>father died hasnt spoken brother years serious...</td>\n",
       "      <td>drama</td>\n",
       "      <td>documentary</td>\n",
       "      <td>drama</td>\n",
       "    </tr>\n",
       "    <tr>\n",
       "      <th>4</th>\n",
       "      <td>5</td>\n",
       "      <td>Er nu zhai (1955)</td>\n",
       "      <td>Before he was known internationally as a mart...</td>\n",
       "      <td>known internationally martial arts superstar b...</td>\n",
       "      <td>drama</td>\n",
       "      <td>drama</td>\n",
       "      <td>drama</td>\n",
       "    </tr>\n",
       "  </tbody>\n",
       "</table>\n",
       "</div>"
      ],
      "text/plain": [
       "   Id                          Title  \\\n",
       "0   1          Edgar's Lunch (1998)    \n",
       "1   2      La guerra de papá (1977)    \n",
       "2   3   Off the Beaten Track (2010)    \n",
       "3   4        Meu Amigo Hindu (2015)    \n",
       "4   5             Er nu zhai (1955)    \n",
       "\n",
       "                                         Description  \\\n",
       "0   L.R. Brane loves his life - his car, his apar...   \n",
       "1   Spain, March 1964: Quico is a very naughty ch...   \n",
       "2   One year in the life of Albin and his family ...   \n",
       "3   His father has died, he hasn't spoken with hi...   \n",
       "4   Before he was known internationally as a mart...   \n",
       "\n",
       "                                       Text_cleaning Predicted_Genre_NB  \\\n",
       "0  brane loves life car apartment job especially ...             drama    \n",
       "1  spain march quico naughty child three belongin...             drama    \n",
       "2  one year life albin family shepherds north tra...       documentary    \n",
       "3  father died hasnt spoken brother years serious...             drama    \n",
       "4  known internationally martial arts superstar b...             drama    \n",
       "\n",
       "    Actual Genre Predicted_Genre_LR  \n",
       "0            NaN             drama   \n",
       "1      thriller              drama   \n",
       "2        comedy        documentary   \n",
       "3   documentary              drama   \n",
       "4         drama              drama   "
      ]
     },
     "execution_count": 35,
     "metadata": {},
     "output_type": "execute_result"
    }
   ],
   "source": [
    "# Display the 'test_data' DataFrame with predicted and actual genres\n",
    "test_data.head()"
   ]
  },
  {
   "cell_type": "code",
   "execution_count": 36,
   "id": "074b0c94",
   "metadata": {
    "execution": {
     "iopub.execute_input": "2024-02-27T03:27:01.7003Z",
     "iopub.status.busy": "2024-02-27T03:27:01.699905Z",
     "iopub.status.idle": "2024-02-27T03:27:01.742787Z",
     "shell.execute_reply": "2024-02-27T03:27:01.741278Z",
     "shell.execute_reply.started": "2024-02-27T03:27:01.700271Z"
    }
   },
   "outputs": [
    {
     "name": "stdout",
     "output_type": "stream",
     "text": [
      "Number of samples where Naive Bayes Classifier predicted accurately: 13318\n",
      "Number of samples where Logistic Regression Classifier predicted accurately: 10885\n"
     ]
    }
   ],
   "source": [
    "count_same_values_NB = (test_data['Predicted_Genre_NB'] == test_data['Actual Genre']).sum()\n",
    "count_same_values_LR = (test_data['Predicted_Genre_LR'] == test_data['Actual Genre']).sum()\n",
    "\n",
    "print(\"Number of samples where Naive Bayes Classifier predicted accurately:\", count_same_values_NB)\n",
    "print(\"Number of samples where Logistic Regression Classifier predicted accurately:\", count_same_values_LR)"
   ]
  },
  {
   "cell_type": "markdown",
   "id": "607b3db6",
   "metadata": {},
   "source": [
    "### **Comparison**"
   ]
  },
  {
   "cell_type": "markdown",
   "id": "3115970f",
   "metadata": {},
   "source": [
    "### **On the Basis of Accuracy Score**"
   ]
  },
  {
   "cell_type": "code",
   "execution_count": 37,
   "id": "d34387b3",
   "metadata": {
    "execution": {
     "iopub.execute_input": "2024-02-27T03:02:18.722958Z",
     "iopub.status.busy": "2024-02-27T03:02:18.722428Z",
     "iopub.status.idle": "2024-02-27T03:02:18.73Z",
     "shell.execute_reply": "2024-02-27T03:02:18.72816Z",
     "shell.execute_reply.started": "2024-02-27T03:02:18.722922Z"
    }
   },
   "outputs": [],
   "source": [
    "sum = accuracy_NB + accuracy_logreg\n",
    "size1 = (accuracy_NB/sum)\n",
    "size2 = (accuracy_logreg/sum)"
   ]
  },
  {
   "cell_type": "code",
   "execution_count": 38,
   "id": "0d492c38",
   "metadata": {
    "execution": {
     "iopub.execute_input": "2024-02-27T03:02:20.787159Z",
     "iopub.status.busy": "2024-02-27T03:02:20.785415Z",
     "iopub.status.idle": "2024-02-27T03:02:21.042477Z",
     "shell.execute_reply": "2024-02-27T03:02:21.040715Z",
     "shell.execute_reply.started": "2024-02-27T03:02:20.787082Z"
    }
   },
   "outputs": [
    {
     "data": {
      "image/png": "[encoded data removed]",
      "text/plain": [
       "<Figure size 360x360 with 1 Axes>"
      ]
     },
     "metadata": {},
     "output_type": "display_data"
    }
   ],
   "source": [
    "labels = ['Naive Bayes', 'Logistic Regression']\n",
    "sizes = [size1, size2]\n",
    "\n",
    "# Plotting the pie chart\n",
    "plt.figure(figsize=(5,5))\n",
    "plt.pie(sizes, labels=labels, autopct='%1.1f%%', startangle=90, shadow = True)\n",
    "plt.title('Accuracy Comparison')\n",
    "plt.legend()\n",
    "plt.show()"
   ]
  },
  {
   "cell_type": "markdown",
   "id": "2c738e32",
   "metadata": {},
   "source": [
    "### **On the Basis of Solution**"
   ]
  },
  {
   "cell_type": "code",
   "execution_count": 39,
   "id": "b4098374",
   "metadata": {
    "execution": {
     "iopub.execute_input": "2024-02-27T03:31:14.307941Z",
     "iopub.status.busy": "2024-02-27T03:31:14.307361Z",
     "iopub.status.idle": "2024-02-27T03:31:14.314261Z",
     "shell.execute_reply": "2024-02-27T03:31:14.313135Z",
     "shell.execute_reply.started": "2024-02-27T03:31:14.307899Z"
    }
   },
   "outputs": [],
   "source": [
    "sum = count_same_values_NB + count_same_values_LR\n",
    "portion1 = (count_same_values_NB/sum)\n",
    "portion2 = (count_same_values_LR/sum)"
   ]
  },
  {
   "cell_type": "code",
   "execution_count": 40,
   "id": "643b0597",
   "metadata": {
    "execution": {
     "iopub.execute_input": "2024-02-27T03:31:15.212387Z",
     "iopub.status.busy": "2024-02-27T03:31:15.211968Z",
     "iopub.status.idle": "2024-02-27T03:31:15.41827Z",
     "shell.execute_reply": "2024-02-27T03:31:15.416823Z",
     "shell.execute_reply.started": "2024-02-27T03:31:15.212354Z"
    }
   },
   "outputs": [
    {
     "data": {
      "image/png": "[encoded data removed]",
      "text/plain": [
       "<Figure size 360x360 with 1 Axes>"
      ]
     },
     "metadata": {},
     "output_type": "display_data"
    }
   ],
   "source": [
    "labels = ['Naive Bayes', 'Logistic Regression']\n",
    "sizes = [portion1, portion2]\n",
    "\n",
    "# Plotting the pie chart\n",
    "plt.figure(figsize=(5,5))\n",
    "plt.pie(sizes, labels=labels, autopct='%1.1f%%', startangle=90, shadow = True)\n",
    "plt.title('Accuracy Comparison')\n",
    "plt.legend()\n",
    "plt.show()"
   ]
  },
  {
   "cell_type": "code",
   "execution_count": null,
   "id": "37f1f266",
   "metadata": {},
   "outputs": [],
   "source": []
  },
  {
   "cell_type": "code",
   "execution_count": null,
   "id": "d6b924aa",
   "metadata": {},
   "outputs": [],
   "source": []
  }
 ],
 "metadata": {
  "kernelspec": {
   "display_name": "Python 3 (ipykernel)",
   "language": "python",
   "name": "python3"
  },
  "language_info": {
   "codemirror_mode": {
    "name": "ipython",
    "version": 3
   },
   "file_extension": ".py",
   "mimetype": "text/x-python",
   "name": "python",
   "nbconvert_exporter": "python",
   "pygments_lexer": "ipython3",
   "version": "3.9.12"
  }
 },
 "nbformat": 4,
 "nbformat_minor": 5
}
